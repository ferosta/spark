{
 "cells": [
  {
   "cell_type": "code",
   "execution_count": 42,
   "id": "91be9789",
   "metadata": {
    "collapsed": true,
    "jupyter": {
     "outputs_hidden": true
    }
   },
   "outputs": [
    {
     "name": "stdout",
     "output_type": "stream",
     "text": [
      "On branch main\n",
      "Your branch is up to date with 'origin/main'.\n",
      "\n",
      "Changes to be committed:\n",
      "  (use \"git restore --staged <file>...\" to unstage)\n",
      "\t\u001b[32mnew file:   .ipynb_checkpoints/README-checkpoint.md\u001b[m\n",
      "\t\u001b[32mnew file:   .ipynb_checkpoints/Z3_3_PySpark-checkpoint.ipynb\u001b[m\n",
      "\t\u001b[32mnew file:   .ipynb_checkpoints/old_Z3_3_PySpark-checkpoint.ipynb\u001b[m\n",
      "\t\u001b[32mmodified:   Z3_3_PySpark.ipynb\u001b[m\n",
      "\t\u001b[32mnew file:   old_Z3_3_PySpark.ipynb\u001b[m\n",
      "\n",
      "Changes not staged for commit:\n",
      "  (use \"git add <file>...\" to update what will be committed)\n",
      "  (use \"git restore <file>...\" to discard changes in working directory)\n",
      "\t\u001b[31mmodified:   Z3_3_PySpark.ipynb\u001b[m\n",
      "\n",
      "[main 0684861] сделаны все задания блока 3.3\n",
      " 5 files changed, 3730 insertions(+), 221 deletions(-)\n",
      " create mode 100644 .ipynb_checkpoints/README-checkpoint.md\n",
      " create mode 100644 .ipynb_checkpoints/Z3_3_PySpark-checkpoint.ipynb\n",
      " create mode 100644 .ipynb_checkpoints/old_Z3_3_PySpark-checkpoint.ipynb\n",
      " create mode 100644 old_Z3_3_PySpark.ipynb\n",
      "Username for 'https://github.com': ^C\n"
     ]
    }
   ],
   "source": [
    "# !apt-get -y install git\n",
    "# !git clone https://github.com/ferosta/spark.git\n",
    "# !git config --global user.email \"amfedorov@mail.ru\"\n",
    "# !git config --global user.name \"Fedorov Andrey\"\n",
    "!git status\n",
    "!git add .\n",
    "!git commit -m \"сделаны все задания блока 3.3\"\n",
    "!git push"
   ]
  },
  {
   "cell_type": "code",
   "execution_count": 2,
   "id": "43596153",
   "metadata": {},
   "outputs": [],
   "source": [
    "from pyspark.sql import SparkSession\n",
    "import pyspark.sql.types as T\n",
    "import pyspark.sql.functions as F\n",
    "from pyspark.sql.functions import udf\n",
    "from pyspark.sql.functions import window\n",
    "\n",
    "import datetime\n",
    "import math\n"
   ]
  },
  {
   "cell_type": "code",
   "execution_count": 3,
   "id": "9ea96c81",
   "metadata": {},
   "outputs": [
    {
     "name": "stderr",
     "output_type": "stream",
     "text": [
      "22/11/29 07:26:06 WARN NativeCodeLoader: Unable to load native-hadoop library for your platform... using builtin-java classes where applicable\n",
      "Using Spark's default log4j profile: org/apache/spark/log4j-defaults.properties\n",
      "Setting default log level to \"WARN\".\n",
      "To adjust logging level use sc.setLogLevel(newLevel). For SparkR, use setLogLevel(newLevel).\n",
      "22/11/29 07:26:07 WARN Utils: Service 'SparkUI' could not bind on port 4040. Attempting port 4041.\n"
     ]
    }
   ],
   "source": [
    "# spark = SparkSession.builder.master(\"local\").\\\n",
    "# 192.168.144.202\n",
    "# spark = SparkSession.builder.master(\"spark://192.168.144.202:7077\").\\\n",
    "spark = SparkSession.builder.master(\"local\").\\\n",
    "                appName(\"Home_Work_py\").\\\n",
    "                config(\"spark.driver.bindAddress\", \"localhost\").\\\n",
    "                config(\"spark.ui.port\", \"4040\").\\\n",
    "                getOrCreate()"
   ]
  },
  {
   "cell_type": "markdown",
   "id": "537ea866",
   "metadata": {},
   "source": [
    "# Попробовать без схемы данных"
   ]
  },
  {
   "cell_type": "code",
   "execution_count": 4,
   "id": "f39bd50d",
   "metadata": {},
   "outputs": [],
   "source": [
    "data = [ ('Петя','','Петров','12-12-2010','M',3000)\n",
    "        ,('Маша','Михайловна','Мишина','10-09-2000','F',5000)\n",
    "        ,('Коля','Николаевич','','15-06-1999','M',4000)\n",
    "        ,('Вася','','Пупкин','01-01-1954','M',7000)\n",
    "        ,('Иоган','Себастьян','Бах','30-05-1754','M',5000)\n",
    "]"
   ]
  },
  {
   "cell_type": "code",
   "execution_count": 5,
   "id": "1944b4d7",
   "metadata": {},
   "outputs": [],
   "source": [
    "columns = ['firstame', 'midlename', 'secondname', 'dob', 'gender', 'salary']\n",
    "df = spark.createDataFrame(data = data, schema = columns )"
   ]
  },
  {
   "cell_type": "code",
   "execution_count": 6,
   "id": "aa762348",
   "metadata": {},
   "outputs": [
    {
     "name": "stderr",
     "output_type": "stream",
     "text": [
      "                                                                                \r"
     ]
    },
    {
     "data": {
      "text/plain": [
       "5"
      ]
     },
     "execution_count": 6,
     "metadata": {},
     "output_type": "execute_result"
    }
   ],
   "source": [
    "df.count()"
   ]
  },
  {
   "cell_type": "code",
   "execution_count": 7,
   "id": "98beb018",
   "metadata": {},
   "outputs": [
    {
     "name": "stdout",
     "output_type": "stream",
     "text": [
      "+--------+----------+----------+----------+------+------+\n",
      "|firstame| midlename|secondname|       dob|gender|salary|\n",
      "+--------+----------+----------+----------+------+------+\n",
      "|    Петя|          |    Петров|12-12-2010|     M|  3000|\n",
      "|    Маша|Михайловна|    Мишина|10-09-2000|     F|  5000|\n",
      "|    Коля|Николаевич|          |15-06-1999|     M|  4000|\n",
      "|    Вася|          |    Пупкин|01-01-1954|     M|  7000|\n",
      "|   Иоган| Себастьян|       Бах|30-05-1754|     M|  5000|\n",
      "+--------+----------+----------+----------+------+------+\n",
      "\n"
     ]
    }
   ],
   "source": [
    "df.show(5)"
   ]
  },
  {
   "cell_type": "code",
   "execution_count": 8,
   "id": "d33a5df6",
   "metadata": {},
   "outputs": [
    {
     "name": "stdout",
     "output_type": "stream",
     "text": [
      "root\n",
      " |-- firstame: string (nullable = true)\n",
      " |-- midlename: string (nullable = true)\n",
      " |-- secondname: string (nullable = true)\n",
      " |-- dob: string (nullable = true)\n",
      " |-- gender: string (nullable = true)\n",
      " |-- salary: long (nullable = true)\n",
      "\n"
     ]
    }
   ],
   "source": [
    "df.printSchema()"
   ]
  },
  {
   "cell_type": "markdown",
   "id": "1c3b24b8",
   "metadata": {},
   "source": [
    "Мы попробуем использовать возможности Spark для анализа данных clickstream пользователей новостного Интернет-портала."
   ]
  },
  {
   "cell_type": "markdown",
   "id": "f965b664",
   "metadata": {},
   "source": [
    "# a. Создайте схему будущего фрейма данных. \n",
    "Схема должна включать следующие атрибуты:\n",
    "\n",
    "·id -  уникальный идентификатор посетителя сайта. Тип – последовательность чисел фиксированной длины. Данное поле не является первичным ключом.\n",
    "\n",
    "· timestamp – дата и время события в формате unix timestamp.\n",
    "\n",
    "· type – тип события, значение из списка (факт посещения(visit), клик по визуальному элементу страницы(click), скролл(scroll), перед на другую страницу(move)).\n",
    "\n",
    "· page_id – id текущей страницы. Тип - последовательность чисел фиксированной длины.\n",
    "\n",
    "· tag – каждая страница с новостью размечается редакцией специальными тегами, которые отражают тематику конкретной новости со \n",
    "страницы. Возможный список тематик: политика, спорт, медицина и т.д.\n",
    "\n",
    "· sign – наличие у пользователя личного кабинета. Значения – True/False."
   ]
  },
  {
   "cell_type": "code",
   "execution_count": 9,
   "id": "7c46c662",
   "metadata": {},
   "outputs": [],
   "source": [
    "schema_web = T.StructType(fields=[\n",
    "    T.StructField(\"id\", T.LongType()),\n",
    "    T.StructField(\"timestamp\", T.LongType()),\n",
    "    T.StructField(\"type\", T.StringType()),\n",
    "    T.StructField(\"page_id\", T.LongType()),\n",
    "    T.StructField(\"tag\", T.StringType()),\n",
    "    T.StructField(\"sign\", T.BooleanType())\n",
    "])"
   ]
  },
  {
   "cell_type": "markdown",
   "id": "8fab0238",
   "metadata": {},
   "source": [
    "## схема для данных ЛК из задания 6 \"Создайте второй фрейм данных\"\n",
    "<a id='my_cell'></a>"
   ]
  },
  {
   "cell_type": "code",
   "execution_count": 10,
   "id": "d9052b23",
   "metadata": {},
   "outputs": [],
   "source": [
    "schema_lk = T.StructType(fields=[\n",
    "    T.StructField(\"id_cab\", T.LongType()),\n",
    "    T.StructField(\"user_id\", T.LongType()),\n",
    "    T.StructField(\"FIO\", T.StringType()),\n",
    "    T.StructField(\"birthdate\", T.DateType()),\n",
    "    T.StructField(\"cab_regdate\", T.DateType()),\n",
    "])"
   ]
  },
  {
   "cell_type": "markdown",
   "id": "63957c0d",
   "metadata": {},
   "source": [
    "# b. Создайте датафрейм \n",
    "с описанной выше схемой данных. "
   ]
  },
  {
   "cell_type": "code",
   "execution_count": 11,
   "id": "247a3b8e",
   "metadata": {},
   "outputs": [],
   "source": [
    "data_web = [ (1, 1667627426, \"visit\", 101, 'Sport', False)\n",
    "            ,(1, 1667627026, \"scroll\", 101, 'Sport', False)\n",
    "            ,(1, 1667627880, \"click\", 101, 'Sport', False)\n",
    "            ,(1, 1667627889, \"click\", 101, 'Sport', False)\n",
    "            ,(1, 1667627980, \"visit\", 102, 'Politics', False)\n",
    "            ,(1, 1667627180, \"click\", 102, 'Politics', False)\n",
    "            ,(1, 1667628180, \"visit\", 103, 'Politics', False)\n",
    "            ,(2, 1647628326, \"visit\", 104, 'Politics', True)\n",
    "            ,(2, 1669628526, \"scroll\", 104, 'Politics', True)\n",
    "            ,(2, 1667628680, \"click\", 104, 'Politics', True)\n",
    "            ,(2, 1668628880, \"visit\", 105, 'Business', True)\n",
    "            ,(2, 1667638810, \"click\", 105, 'Business', True)\n",
    "            ,(2, 1667628819, \"click\", 105, 'Business', True)\n",
    "            ,(3, 1667624980, \"visit\", 106, 'Sport', False)\n",
    "            ,(3, 1667609180, \"click\", 106, 'Sport', False)\n",
    "            ,(3, 1667629480, \"visit\", 107, 'Politics', False)\n",
    "            ,(3, 1667029580, \"scroll\", 107, 'Politics', False)]"
   ]
  },
  {
   "cell_type": "code",
   "execution_count": 12,
   "id": "690d7333",
   "metadata": {},
   "outputs": [],
   "source": [
    "data_lk =[\n",
    "     (101,1,\"Иванов Иван Иванович\", datetime.datetime(1990,7,5), datetime.datetime(2016,8,15))\n",
    "    ,(102,2,\"Петрова Петра Петручевна\", datetime.datetime(2001,12,1), datetime.datetime(2020,4,1))\n",
    "]"
   ]
  },
  {
   "cell_type": "code",
   "execution_count": 13,
   "id": "66517522",
   "metadata": {},
   "outputs": [],
   "source": [
    "df_web = spark.createDataFrame(data=data_web, schema = schema_web)\n",
    "df_lk = spark.createDataFrame(data=data_lk, schema = schema_lk)\n"
   ]
  },
  {
   "cell_type": "code",
   "execution_count": 14,
   "id": "f402812a",
   "metadata": {},
   "outputs": [
    {
     "name": "stdout",
     "output_type": "stream",
     "text": [
      "+---+----------+------+-------+--------+-----+\n",
      "| id| timestamp|  type|page_id|     tag| sign|\n",
      "+---+----------+------+-------+--------+-----+\n",
      "|  1|1667627426| visit|    101|   Sport|false|\n",
      "|  1|1667627026|scroll|    101|   Sport|false|\n",
      "|  1|1667627880| click|    101|   Sport|false|\n",
      "|  1|1667627889| click|    101|   Sport|false|\n",
      "|  1|1667627980| visit|    102|Politics|false|\n",
      "|  1|1667627180| click|    102|Politics|false|\n",
      "|  1|1667628180| visit|    103|Politics|false|\n",
      "|  2|1647628326| visit|    104|Politics| true|\n",
      "|  2|1669628526|scroll|    104|Politics| true|\n",
      "|  2|1667628680| click|    104|Politics| true|\n",
      "|  2|1668628880| visit|    105|Business| true|\n",
      "|  2|1667638810| click|    105|Business| true|\n",
      "|  2|1667628819| click|    105|Business| true|\n",
      "|  3|1667624980| visit|    106|   Sport|false|\n",
      "|  3|1667609180| click|    106|   Sport|false|\n",
      "|  3|1667629480| visit|    107|Politics|false|\n",
      "|  3|1667029580|scroll|    107|Politics|false|\n",
      "+---+----------+------+-------+--------+-----+\n",
      "\n"
     ]
    }
   ],
   "source": [
    "df_web.show()\n"
   ]
  },
  {
   "cell_type": "code",
   "execution_count": 15,
   "id": "8decb170",
   "metadata": {},
   "outputs": [
    {
     "name": "stdout",
     "output_type": "stream",
     "text": [
      "+------+-------+--------------------+----------+-----------+\n",
      "|id_cab|user_id|                 FIO| birthdate|cab_regdate|\n",
      "+------+-------+--------------------+----------+-----------+\n",
      "|   101|      1|Иванов Иван Иванович|1990-07-05| 2016-08-15|\n",
      "|   102|      2|Петрова Петра Пет...|2001-12-01| 2020-04-01|\n",
      "+------+-------+--------------------+----------+-----------+\n",
      "\n"
     ]
    }
   ],
   "source": [
    "df_lk.show()"
   ]
  },
  {
   "cell_type": "markdown",
   "id": "fa5240a4",
   "metadata": {},
   "source": [
    "# c. Наполните датафрейм данными. \n",
    "Пример:\n",
    "(12345, 1667627426, \"click\", 101, \"Sport”, False)"
   ]
  },
  {
   "cell_type": "code",
   "execution_count": 16,
   "id": "e6e982a8",
   "metadata": {},
   "outputs": [],
   "source": [
    "data_lk_new =[\n",
    "     (103,3,\"Чугунова Марья Ивановна\", datetime.datetime(1995,3,15), datetime.datetime(2017,5,17))\n",
    "    ,(104,4,\"Козлодоев Лёлик Боликович\", datetime.datetime(1993,8,19), datetime.datetime(2021,12,30))\n",
    "    ,(105,5,\"Сергеева Анжелика Ибрагимовна\", datetime.datetime(1999,1,29), datetime.datetime(2022,2,23))\n",
    "    ,(106,6,\"Трумп Дональд Руандович\", datetime.datetime(1983,4,12), datetime.datetime(2020,1,22))\n",
    "    ,(105,7,\"КоКо Клавдия Юрьевна\", datetime.datetime(1978,1,5), datetime.datetime(2021,3,13))\n",
    "    ,(106,8,\"Клуни Константин Плятович\", datetime.datetime(1973,9,22), datetime.datetime(2017,8,8))\n",
    "    ,(115,9,\"Сычев Слава Славович\", datetime.datetime(1988,5,15), datetime.datetime(1997,9,23))\n",
    "    ,(116,10,\"Хрюнов Вова Изевич\", datetime.datetime(1993,4,12), datetime.datetime(2000,1,1))\n",
    "    ,(116,11,\"Сикретова Кэт Радиоловна\", datetime.datetime(1963,3,18), datetime.datetime(1999,6,6))\n",
    "    \n",
    "]"
   ]
  },
  {
   "cell_type": "code",
   "execution_count": 17,
   "id": "2d06b714",
   "metadata": {},
   "outputs": [
    {
     "name": "stdout",
     "output_type": "stream",
     "text": [
      "+------+-------+--------------------+----------+-----------+\n",
      "|id_cab|user_id|                 FIO| birthdate|cab_regdate|\n",
      "+------+-------+--------------------+----------+-----------+\n",
      "|   101|      1|Иванов Иван Иванович|1990-07-05| 2016-08-15|\n",
      "|   102|      2|Петрова Петра Пет...|2001-12-01| 2020-04-01|\n",
      "|   103|      3|Чугунова Марья Ив...|1995-03-15| 2017-05-17|\n",
      "|   104|      4|Козлодоев Лёлик Б...|1993-08-19| 2021-12-30|\n",
      "|   105|      5|Сергеева Анжелика...|1999-01-29| 2022-02-23|\n",
      "|   106|      6|Трумп Дональд Руа...|1983-04-12| 2020-01-22|\n",
      "|   105|      7|КоКо Клавдия Юрьевна|1978-01-05| 2021-03-13|\n",
      "|   106|      8|Клуни Константин ...|1973-09-22| 2017-08-08|\n",
      "|   115|      9|Сычев Слава Славович|1988-05-15| 1997-09-23|\n",
      "|   116|     10|  Хрюнов Вова Изевич|1993-04-12| 2000-01-01|\n",
      "|   116|     11|Сикретова Кэт Рад...|1963-03-18| 1999-06-06|\n",
      "+------+-------+--------------------+----------+-----------+\n",
      "\n"
     ]
    }
   ],
   "source": [
    "df_lk_new = spark.createDataFrame(data=data_lk_new, schema = schema_lk)\n",
    "df_lk_new = df_lk.union(df_lk_new)\n",
    "df_lk_new.show()"
   ]
  },
  {
   "cell_type": "code",
   "execution_count": 18,
   "id": "83f28ec2",
   "metadata": {},
   "outputs": [],
   "source": [
    "data_web_new = [ (4, 1667626426, \"visit\", 101, '1945', False)\n",
    "            ,(4, 1667625027, \"scroll\", 101, '1945', False)\n",
    "            ,(4, 1667624886, \"click\", 101, '1945', False)\n",
    "            ,(4, 1667637885, \"click\", 101, '1945', False)\n",
    "            ,(4, 1667622984, \"visit\", 102, 'Games', False)\n",
    "            ,(4, 1667621183, \"click\", 102, 'Games', False)\n",
    "            ,(4, 1667620182, \"visit\", 103, 'Games', False)\n",
    "            ,(5, 1647629321, \"visit\", 104, 'Games', True)\n",
    "            ,(5, 1669625820, \"scroll\", 104, 'Games', True)\n",
    "            ,(5, 1667627681, \"click\", 104, 'Games', True)\n",
    "            ,(5, 1668626882, \"visit\", 105, 'Fortran', True)\n",
    "            ,(5, 1667635813, \"click\", 105, 'Programming', True)\n",
    "            ,(5, 1667624814, \"click\", 105, 'Programming', True)\n",
    "            ,(1, 1667633985, \"visit\", 106, '1945', False)\n",
    "            ,(2, 1667612186, \"click\", 106, '1945', False)\n",
    "            ,(3, 1667629488, \"visit\", 107, 'Sport', False)\n",
    "            ,(4, 1667000589, \"scroll\", 107, 'Games', False)\n",
    "            ,(1, 1647699321, \"visit\", 104, 'Games', True)\n",
    "            ,(2, 1669685820, \"scroll\", 104, 'Games', True)\n",
    "            ,(3, 1667677681, \"click\", 104, 'Sport', True)\n",
    "            ,(4, 1668666882, \"visit\", 105, 'Python', True)\n",
    "            ,(5, 1667655813, \"click\", 105, 'SCALA', True)\n",
    "            ,(6, 1667644814, \"click\", 105, 'PHP', True)\n",
    "            ,(7, 1667633985, \"visit\", 106, '1945', False)\n",
    "            ,(8, 1667622186, \"click\", 106, '1945', False)\n",
    "            ,(9, 1667601488, \"visit\", 107, 'Games', False)\n",
    "            ,(1, 1667010589, \"scroll\", 107, 'Sport', False)\n",
    "]"
   ]
  },
  {
   "cell_type": "code",
   "execution_count": 19,
   "id": "00c31da1",
   "metadata": {},
   "outputs": [
    {
     "name": "stdout",
     "output_type": "stream",
     "text": [
      "+---+----------+------+-------+--------+-----+\n",
      "| id| timestamp|  type|page_id|     tag| sign|\n",
      "+---+----------+------+-------+--------+-----+\n",
      "|  1|1667627426| visit|    101|   Sport|false|\n",
      "|  1|1667627026|scroll|    101|   Sport|false|\n",
      "|  1|1667627880| click|    101|   Sport|false|\n",
      "|  1|1667627889| click|    101|   Sport|false|\n",
      "|  1|1667627980| visit|    102|Politics|false|\n",
      "|  1|1667627180| click|    102|Politics|false|\n",
      "|  1|1667628180| visit|    103|Politics|false|\n",
      "|  2|1647628326| visit|    104|Politics| true|\n",
      "|  2|1669628526|scroll|    104|Politics| true|\n",
      "|  2|1667628680| click|    104|Politics| true|\n",
      "|  2|1668628880| visit|    105|Business| true|\n",
      "|  2|1667638810| click|    105|Business| true|\n",
      "|  2|1667628819| click|    105|Business| true|\n",
      "|  3|1667624980| visit|    106|   Sport|false|\n",
      "|  3|1667609180| click|    106|   Sport|false|\n",
      "|  3|1667629480| visit|    107|Politics|false|\n",
      "|  3|1667029580|scroll|    107|Politics|false|\n",
      "|  4|1667626426| visit|    101|    1945|false|\n",
      "|  4|1667625027|scroll|    101|    1945|false|\n",
      "|  4|1667624886| click|    101|    1945|false|\n",
      "+---+----------+------+-------+--------+-----+\n",
      "only showing top 20 rows\n",
      "\n"
     ]
    }
   ],
   "source": [
    "df_web_new = spark.createDataFrame(data=data_web_new, schema = schema_web)\n",
    "df_web_new = df_web.union(df_web_new)\n",
    "df_web_new.show()"
   ]
  },
  {
   "cell_type": "markdown",
   "id": "0300c14e",
   "metadata": {},
   "source": [
    "# d.       Решите следующие задачи:"
   ]
  },
  {
   "cell_type": "markdown",
   "id": "a626a419",
   "metadata": {},
   "source": [
    "## ·   Вывести топ-5 самых активных посетителей сайта"
   ]
  },
  {
   "cell_type": "code",
   "execution_count": 20,
   "id": "367972e9",
   "metadata": {},
   "outputs": [
    {
     "name": "stderr",
     "output_type": "stream",
     "text": [
      "[Stage 10:=================================================>    (182 + 1) / 200]\r"
     ]
    },
    {
     "name": "stdout",
     "output_type": "stream",
     "text": [
      "+---+-----+\n",
      "| id|count|\n",
      "+---+-----+\n",
      "|  1|   10|\n",
      "|  4|    9|\n",
      "|  2|    8|\n",
      "|  5|    7|\n",
      "|  3|    6|\n",
      "+---+-----+\n",
      "\n"
     ]
    },
    {
     "name": "stderr",
     "output_type": "stream",
     "text": [
      "                                                                                \r"
     ]
    }
   ],
   "source": [
    "# пять активных из таблицы с кликами\n",
    "df_top5 =\\\n",
    "df_web_new\\\n",
    ".groupby(\"id\")\\\n",
    ".count()\\\n",
    ".sort(\"count\" , ascending=False)\\\n",
    ".limit(5)\n",
    "\n",
    "df_top5.show()"
   ]
  },
  {
   "cell_type": "code",
   "execution_count": 21,
   "id": "4ddf1419",
   "metadata": {},
   "outputs": [
    {
     "name": "stderr",
     "output_type": "stream",
     "text": [
      "                                                                                \r"
     ]
    },
    {
     "name": "stdout",
     "output_type": "stream",
     "text": [
      "+--------------------+\n",
      "|                 FIO|\n",
      "+--------------------+\n",
      "|Сергеева Анжелика...|\n",
      "|Иванов Иван Иванович|\n",
      "|Чугунова Марья Ив...|\n",
      "|Петрова Петра Пет...|\n",
      "|Козлодоев Лёлик Б...|\n",
      "+--------------------+\n",
      "\n"
     ]
    }
   ],
   "source": [
    "# имена пяти активных пользователей\n",
    "df_top5_rez =\\\n",
    "df_top5\\\n",
    "    .join(\n",
    "df_lk_new\n",
    "    ,on = (df_top5.id==df_lk.user_id)\n",
    "    ,how = \"left\")\\\n",
    ".select(['FIO'])\n",
    "\n",
    "df_top5_rez.show()"
   ]
  },
  {
   "cell_type": "markdown",
   "id": "10dac03f",
   "metadata": {},
   "source": [
    "## ·   Посчитать процент посетителей,\n",
    "у которых есть ЛК"
   ]
  },
  {
   "cell_type": "code",
   "execution_count": 22,
   "id": "6401f3ae",
   "metadata": {},
   "outputs": [
    {
     "name": "stderr",
     "output_type": "stream",
     "text": [
      "                                                                                \r"
     ]
    },
    {
     "name": "stdout",
     "output_type": "stream",
     "text": [
      "Всего активных пользователей 13\n"
     ]
    },
    {
     "name": "stderr",
     "output_type": "stream",
     "text": [
      "[Stage 41:================================================>     (180 + 1) / 200]\r"
     ]
    },
    {
     "name": "stdout",
     "output_type": "stream",
     "text": [
      "Всего у кого есть кабинет 6\n",
      "Ответ: процент посетителей, у которых есть ЛК = 46.2%\n"
     ]
    },
    {
     "name": "stderr",
     "output_type": "stream",
     "text": [
      "                                                                                \r"
     ]
    }
   ],
   "source": [
    "# уникальные записи айди-кабинет\n",
    "df_tmp = df_web_new.select(['id','sign']).distinct()\n",
    "num_users = df_tmp.count()\n",
    "print(\"Всего активных пользователей\", num_users)\n",
    "num_users_lk = df_tmp.select(['id','sign']).where(df_tmp.sign == True).count()\n",
    "print(\"Всего у кого есть кабинет\", num_users_lk)\n",
    "print(f\"Ответ: процент посетителей, у которых есть ЛК = {num_users_lk/num_users*100:.1f}%\" )"
   ]
  },
  {
   "cell_type": "markdown",
   "id": "f9611035",
   "metadata": {},
   "source": [
    "## ·   Вывести топ-5 страниц сайта \n",
    "по показателю общего кол-ва кликов на данной странице"
   ]
  },
  {
   "cell_type": "code",
   "execution_count": 23,
   "id": "5dd6f261",
   "metadata": {},
   "outputs": [
    {
     "name": "stderr",
     "output_type": "stream",
     "text": [
      "[Stage 44:========================================>             (150 + 1) / 200]\r"
     ]
    },
    {
     "name": "stdout",
     "output_type": "stream",
     "text": [
      "+-------+-----+\n",
      "|page_id|count|\n",
      "+-------+-----+\n",
      "|    105|    6|\n",
      "|    101|    4|\n",
      "|    104|    3|\n",
      "|    106|    3|\n",
      "|    102|    2|\n",
      "+-------+-----+\n",
      "\n"
     ]
    },
    {
     "name": "stderr",
     "output_type": "stream",
     "text": [
      "                                                                                \r"
     ]
    }
   ],
   "source": [
    "df_web_new.select([\"page_id\", \"type\"])\\\n",
    ".where(df_web_new.type == 'click')\\\n",
    ".groupby('page_id')\\\n",
    ".count()\\\n",
    ".sort(\"count\", ascending=False)\\\n",
    ".show(5)"
   ]
  },
  {
   "cell_type": "markdown",
   "id": "af36f507",
   "metadata": {},
   "source": [
    "## ·   Добавьте столбец к фрейму данных\n",
    "со значением временного диапазона в рамках суток с размером окна – 4 часа(0-4, 4-8, 8-12 и т.д.)"
   ]
  },
  {
   "cell_type": "code",
   "execution_count": 24,
   "id": "bcb78cb4",
   "metadata": {},
   "outputs": [
    {
     "name": "stdout",
     "output_type": "stream",
     "text": [
      "+---+----------+------+-------+--------+-----+----------+\n",
      "| id| timestamp|  type|page_id|     tag| sign|event_time|\n",
      "+---+----------+------+-------+--------+-----+----------+\n",
      "|  1|1667627426| visit|    101|   Sport|false|       4-8|\n",
      "|  1|1667627026|scroll|    101|   Sport|false|       4-8|\n",
      "|  1|1667627880| click|    101|   Sport|false|       4-8|\n",
      "|  1|1667627889| click|    101|   Sport|false|       4-8|\n",
      "|  1|1667627980| visit|    102|Politics|false|       4-8|\n",
      "|  1|1667627180| click|    102|Politics|false|       4-8|\n",
      "|  1|1667628180| visit|    103|Politics|false|       4-8|\n",
      "|  2|1647628326| visit|    104|Politics| true|     16-20|\n",
      "|  2|1669628526|scroll|    104|Politics| true|      8-12|\n",
      "|  2|1667628680| click|    104|Politics| true|       4-8|\n",
      "|  2|1668628880| visit|    105|Business| true|     20-24|\n",
      "|  2|1667638810| click|    105|Business| true|      8-12|\n",
      "|  2|1667628819| click|    105|Business| true|       4-8|\n",
      "|  3|1667624980| visit|    106|   Sport|false|       4-8|\n",
      "|  3|1667609180| click|    106|   Sport|false|       0-4|\n",
      "|  3|1667629480| visit|    107|Politics|false|       4-8|\n",
      "|  3|1667029580|scroll|    107|Politics|false|       4-8|\n",
      "|  4|1667626426| visit|    101|    1945|false|       4-8|\n",
      "|  4|1667625027|scroll|    101|    1945|false|       4-8|\n",
      "|  4|1667624886| click|    101|    1945|false|       4-8|\n",
      "+---+----------+------+-------+--------+-----+----------+\n",
      "only showing top 20 rows\n",
      "\n"
     ]
    }
   ],
   "source": [
    "df_web_new_ok =\\\n",
    "df_web_new\\\n",
    ".withColumn(\"interval_num\", \n",
    "            F.floor( 0.25*F.hour( \n",
    "                     F.from_unixtime(df_web_new.timestamp)\n",
    "                  ) \n",
    "               )\n",
    "           )\\\n",
    ".withColumn('From', 4*F.col(\"interval_num\"))\\\n",
    ".withColumn('To', F.col(\"From\")+4)\\\n",
    ".withColumn('event_time', \n",
    "            F.concat(F.col(\"From\"), F.lit(\"-\"), F.col(\"To\")))\\\n",
    ".drop('From').drop('To').drop(\"interval_num\")\n",
    "df_web_new_ok.show()"
   ]
  },
  {
   "cell_type": "markdown",
   "id": "5c9f7a40",
   "metadata": {},
   "source": [
    "## ·   Выведите временной промежуток \n",
    "на основе предыдущего задания, в течение которого было больше всего активностей на сайте."
   ]
  },
  {
   "cell_type": "code",
   "execution_count": 34,
   "id": "de833fa3",
   "metadata": {},
   "outputs": [
    {
     "name": "stdout",
     "output_type": "stream",
     "text": [
      "Временной интервал максимальной активности: \n"
     ]
    },
    {
     "name": "stderr",
     "output_type": "stream",
     "text": [
      "                                                                                \r"
     ]
    },
    {
     "data": {
      "text/plain": [
       "'4-8'"
      ]
     },
     "execution_count": 34,
     "metadata": {},
     "output_type": "execute_result"
    }
   ],
   "source": [
    "print(\"Временной интервал максимальной активности: \" )\n",
    "df_web_new_ok\\\n",
    ".groupBy(\"event_time\")\\\n",
    ".count()\\\n",
    ".sort(\"count\", ascending=False)\\\n",
    ".first()[\"event_time\"]"
   ]
  },
  {
   "cell_type": "markdown",
   "id": "dae4b4c0",
   "metadata": {},
   "source": [
    "## ·   Создайте второй фрейм данных, \n",
    "который будет содержать информацию о ЛК посетителя сайта со следующим списком атрибутов\n",
    "1.       Id – уникальный идентификатор личного кабинета\n",
    "2.       User_id – уникальный идентификатор посетителя\n",
    "3.       ФИО посетителя\n",
    "4.    Дату рождения посетителя \n",
    "5.       Дата создания ЛК"
   ]
  },
  {
   "cell_type": "markdown",
   "id": "b8288ac0",
   "metadata": {},
   "source": [
    "[сделано в п 3 (б)](#my_cell)"
   ]
  },
  {
   "cell_type": "markdown",
   "id": "9ae07e61",
   "metadata": {},
   "source": [
    "## ·   Вывести фамилии посетителей, которые читали хотя бы одну новость про спорт."
   ]
  },
  {
   "cell_type": "code",
   "execution_count": 26,
   "id": "dad0e153",
   "metadata": {},
   "outputs": [
    {
     "name": "stdout",
     "output_type": "stream",
     "text": [
      "+---+-----+\n",
      "| id|  tag|\n",
      "+---+-----+\n",
      "|  1|Sport|\n",
      "|  3|Sport|\n",
      "+---+-----+\n",
      "\n"
     ]
    }
   ],
   "source": [
    "# записи о новостях про спорт\n",
    "df_sport =\\\n",
    "df_web_new\\\n",
    ".select(['id', 'tag'])\\\n",
    ".where(df_web_new.tag == \"Sport\")\\\n",
    ".distinct() #groupby(\"id\").count().sort(\"count\" , ascending=False)\n",
    "\n",
    "df_sport.show()"
   ]
  },
  {
   "cell_type": "code",
   "execution_count": 38,
   "id": "aeb3ade3",
   "metadata": {},
   "outputs": [
    {
     "name": "stderr",
     "output_type": "stream",
     "text": [
      "                                                                                \r"
     ]
    },
    {
     "name": "stdout",
     "output_type": "stream",
     "text": [
      "+-------+\n",
      "|   Name|\n",
      "+-------+\n",
      "|  Иван |\n",
      "| Марья |\n",
      "+-------+\n",
      "\n"
     ]
    }
   ],
   "source": [
    "# имена пользователей, читавших новости про спорт\n",
    "df_sport_rez =\\\n",
    "df_sport\\\n",
    "    .join(\n",
    "df_lk_new\n",
    "    ,on = (df_sport.id==df_lk.user_id)\n",
    "    ,how = 'left')\\\n",
    ".select(F.regexp_extract('FIO', r'( [А-ЯА-я]* )', 1).alias(\"Name\"))\n",
    "\n",
    "df_sport_rez.show()"
   ]
  },
  {
   "cell_type": "markdown",
   "id": "553460c6",
   "metadata": {},
   "source": [
    "## ·   *Выведите 10% ЛК,\n",
    "у которых максимальная разница между датой создания ЛК и датой последнего посещения."
   ]
  },
  {
   "cell_type": "code",
   "execution_count": 28,
   "id": "57e665e9",
   "metadata": {},
   "outputs": [
    {
     "name": "stderr",
     "output_type": "stream",
     "text": [
      "[Stage 83:================================================>     (181 + 1) / 200]\r"
     ]
    },
    {
     "name": "stdout",
     "output_type": "stream",
     "text": [
      "+------+-------+--------------------+----------+-----------+---+-------+\n",
      "|id_cab|user_id|                 FIO| birthdate|cab_regdate| id|max(id)|\n",
      "+------+-------+--------------------+----------+-----------+---+-------+\n",
      "|   115|      9|Сычев Слава Славович|1988-05-15|  874972800|  9|      9|\n",
      "+------+-------+--------------------+----------+-----------+---+-------+\n",
      "\n"
     ]
    },
    {
     "name": "stderr",
     "output_type": "stream",
     "text": [
      "                                                                                \r"
     ]
    }
   ],
   "source": [
    "#текущая дата - для тех, кто зарегистрировался  ,но до сих по не зашел на сайт - у них самый максимальный лаг в посещении\n",
    "now_tstmp = datetime.datetime.timestamp( datetime.datetime.now() )\n",
    "num_lk_10pc = round(0.1*df_lk_new.count())\n",
    "\n",
    "df_delta =\\\n",
    "df_lk_new.withColumn(\"cab_regdate\", F.unix_timestamp( F.col(\"cab_regdate\") ))\\\n",
    "    .join(\n",
    "df_web_new.select([\"id\",\"timestamp\"]).groupBy(\"id\" ).max()\n",
    "    , on=(df_web_new.id == df_lk_new.user_id)\n",
    "    , how='left')\\\n",
    ".fillna({'max(timestamp)': now_tstmp})\\\n",
    ".withColumn('delta',F.col('max(timestamp)') - F.col('cab_regdate')  )\\\n",
    ".sort('delta', ascending=False)\\\n",
    ".drop(\"delta\").drop(\"max(timestamp)\")\\\n",
    ".limit(num_lk_10pc)\n",
    "\n",
    "df_delta.show()"
   ]
  },
  {
   "cell_type": "markdown",
   "id": "06bfcfc4",
   "metadata": {},
   "source": [
    "## ·   *Вывести топ-5 страниц,\n",
    "которые чаще всего посещают мужчины и топ-5 страниц, которые посещают чаще женщины."
   ]
  },
  {
   "cell_type": "code",
   "execution_count": 29,
   "id": "5bbbcdb1",
   "metadata": {},
   "outputs": [
    {
     "name": "stdout",
     "output_type": "stream",
     "text": [
      "+------+-------+--------------------+----------+-----------+\n",
      "|id_cab|user_id|                 FIO| birthdate|cab_regdate|\n",
      "+------+-------+--------------------+----------+-----------+\n",
      "|   102|      2|Петрова Петра Пет...|2001-12-01| 2020-04-01|\n",
      "|   103|      3|Чугунова Марья Ив...|1995-03-15| 2017-05-17|\n",
      "|   105|      5|Сергеева Анжелика...|1999-01-29| 2022-02-23|\n",
      "|   105|      7|КоКо Клавдия Юрьевна|1978-01-05| 2021-03-13|\n",
      "|   116|     11|Сикретова Кэт Рад...|1963-03-18| 1999-06-06|\n",
      "+------+-------+--------------------+----------+-----------+\n",
      "\n"
     ]
    }
   ],
   "source": [
    "#женщины\n",
    "df_lk_new_zh=df_lk_new.withColumn(\"sex\", F.substring(df_lk_new.FIO, -3, 3))\\\n",
    ".filter('sex in (\"вна\",\"ева\",\"ова\")').drop(\"sex\")\n",
    "\n",
    "df_lk_new_zh.show()"
   ]
  },
  {
   "cell_type": "code",
   "execution_count": 30,
   "id": "edfb5d23",
   "metadata": {},
   "outputs": [
    {
     "name": "stderr",
     "output_type": "stream",
     "text": [
      "                                                                                \r"
     ]
    },
    {
     "name": "stdout",
     "output_type": "stream",
     "text": [
      "+------+-------+--------------------+----------+-----------+\n",
      "|id_cab|user_id|                 FIO| birthdate|cab_regdate|\n",
      "+------+-------+--------------------+----------+-----------+\n",
      "|   116|     10|  Хрюнов Вова Изевич|1993-04-12| 2000-01-01|\n",
      "|   104|      4|Козлодоев Лёлик Б...|1993-08-19| 2021-12-30|\n",
      "|   101|      1|Иванов Иван Иванович|1990-07-05| 2016-08-15|\n",
      "|   106|      8|Клуни Константин ...|1973-09-22| 2017-08-08|\n",
      "|   115|      9|Сычев Слава Славович|1988-05-15| 1997-09-23|\n",
      "|   106|      6|Трумп Дональд Руа...|1983-04-12| 2020-01-22|\n",
      "+------+-------+--------------------+----------+-----------+\n",
      "\n"
     ]
    }
   ],
   "source": [
    "#мужчины\n",
    "df_lk_new_mzh = df_lk_new.subtract(df_lk_new_zh)\n",
    "df_lk_new_mzh.show()"
   ]
  },
  {
   "cell_type": "code",
   "execution_count": 58,
   "id": "24914950",
   "metadata": {},
   "outputs": [
    {
     "name": "stdout",
     "output_type": "stream",
     "text": [
      "+-------+--------------------+\n",
      "|page_id|                 tag|\n",
      "+-------+--------------------+\n",
      "|    101|          Sport,1945|\n",
      "|    102|      Politics,Games|\n",
      "|    103|      Politics,Games|\n",
      "|    104|Politics,Games,Games|\n",
      "|    105|Business,Fortran,...|\n",
      "|    106|     Sport,1945,1945|\n",
      "|    107|Politics,Sport,Games|\n",
      "+-------+--------------------+\n",
      "\n"
     ]
    }
   ],
   "source": [
    "df_pages=\\\n",
    "df_web_new.where(df_web_new.type == \"visit\").select([\"page_id\", \"tag\"])\\\n",
    ".groupby(\"page_id\").agg(F.concat_ws(\",\", F.collect_list(\"tag\") ).alias(\"tag\") )\\\n",
    ".sort(\"page_id\")\n",
    "\n",
    "df_pages.show()"
   ]
  },
  {
   "cell_type": "code",
   "execution_count": 62,
   "id": "64062f42",
   "metadata": {},
   "outputs": [
    {
     "name": "stderr",
     "output_type": "stream",
     "text": [
      "[Stage 375:======================================>              (146 + 1) / 200]\r"
     ]
    },
    {
     "name": "stdout",
     "output_type": "stream",
     "text": [
      "+-------+-----+--------------------+\n",
      "|page_id|count|                 tag|\n",
      "+-------+-----+--------------------+\n",
      "|    107|    2|Politics,Sport,Games|\n",
      "|    104|    2|Politics,Games,Games|\n",
      "|    106|    2|     Sport,1945,1945|\n",
      "|    105|    2|Business,Fortran,...|\n",
      "+-------+-----+--------------------+\n",
      "\n"
     ]
    },
    {
     "name": "stderr",
     "output_type": "stream",
     "text": [
      "                                                                                \r"
     ]
    }
   ],
   "source": [
    "#топ5 страниц, посещаемые женщинами\n",
    "df_web_new\\\n",
    "    .join(\n",
    "df_lk_new_zh.select(\"user_id\")\n",
    "    ,on = (df_web_new.id == df_lk_new_zh.user_id)\n",
    "    ,how = 'right'\n",
    ")\\\n",
    ".dropna()\\\n",
    ".where(df_web_new.type == \"visit\")\\\n",
    ".groupby(\"page_id\").count().sort(\"count\", ascending=False)\\\n",
    "    .join(\n",
    "df_pages\n",
    "    ,on = \"page_id\"\n",
    "    ,how = \"left\" )\\\n",
    ".sort(\"count\", ascending=False)\\\n",
    ".show(5)"
   ]
  },
  {
   "cell_type": "code",
   "execution_count": 61,
   "id": "05bed46f",
   "metadata": {},
   "outputs": [
    {
     "name": "stderr",
     "output_type": "stream",
     "text": [
      "[Stage 370:=============================================>       (173 + 1) / 200]\r"
     ]
    },
    {
     "name": "stdout",
     "output_type": "stream",
     "text": [
      "+-------+-----+--------------------+\n",
      "|page_id|count|                 tag|\n",
      "+-------+-----+--------------------+\n",
      "|    103|    2|      Politics,Games|\n",
      "|    101|    2|          Sport,1945|\n",
      "|    102|    2|      Politics,Games|\n",
      "|    106|    1|     Sport,1945,1945|\n",
      "|    105|    1|Business,Fortran,...|\n",
      "+-------+-----+--------------------+\n",
      "only showing top 5 rows\n",
      "\n"
     ]
    },
    {
     "name": "stderr",
     "output_type": "stream",
     "text": [
      "                                                                                \r"
     ]
    }
   ],
   "source": [
    "#топ5 страниц, посещаемые мужчинами\n",
    "df_web_new\\\n",
    "    .join(\n",
    "df_lk_new_mzh.select(\"user_id\")\n",
    "    ,on = (df_web_new.id == df_lk_new_zh.user_id)\n",
    "    ,how = 'right'\n",
    ")\\\n",
    ".dropna()\\\n",
    ".where(df_web_new.type == \"visit\").groupby(\"page_id\").count()\\\n",
    "    .join(\n",
    "df_pages\n",
    "    ,on = \"page_id\"\n",
    "    ,how = \"left\" )\\\n",
    ".sort(\"count\", ascending=False)\\\n",
    ".show(5)"
   ]
  }
 ],
 "metadata": {
  "kernelspec": {
   "display_name": "Python 3 (ipykernel)",
   "language": "python",
   "name": "python3"
  },
  "language_info": {
   "codemirror_mode": {
    "name": "ipython",
    "version": 3
   },
   "file_extension": ".py",
   "mimetype": "text/x-python",
   "name": "python",
   "nbconvert_exporter": "python",
   "pygments_lexer": "ipython3",
   "version": "3.9.2"
  },
  "toc-autonumbering": true,
  "toc-showmarkdowntxt": false
 },
 "nbformat": 4,
 "nbformat_minor": 5
}
