{
 "cells": [
  {
   "cell_type": "code",
   "execution_count": 1,
   "id": "0b4e4fca",
   "metadata": {},
   "outputs": [],
   "source": [
    "from pyspark.sql import SparkSession\n",
    "import pyspark.sql.types as T\n",
    "import pyspark.sql.functions as F\n",
    "from pyspark.sql.functions import udf\n",
    "from pyspark.sql.functions import window\n",
    "\n",
    "import datetime\n",
    "import math\n"
   ]
  },
  {
   "cell_type": "code",
   "execution_count": 2,
   "id": "4a693146",
   "metadata": {},
   "outputs": [
    {
     "name": "stderr",
     "output_type": "stream",
     "text": [
      "22/11/28 17:16:46 WARN NativeCodeLoader: Unable to load native-hadoop library for your platform... using builtin-java classes where applicable\n",
      "Using Spark's default log4j profile: org/apache/spark/log4j-defaults.properties\n",
      "Setting default log level to \"WARN\".\n",
      "To adjust logging level use sc.setLogLevel(newLevel). For SparkR, use setLogLevel(newLevel).\n",
      "22/11/28 17:16:47 WARN Utils: Service 'SparkUI' could not bind on port 4040. Attempting port 4041.\n"
     ]
    }
   ],
   "source": [
    "# spark = SparkSession.builder.master(\"local\").\\\n",
    "# 192.168.144.202\n",
    "# spark = SparkSession.builder.master(\"spark://192.168.144.202:7077\").\\\n",
    "spark = SparkSession.builder.master(\"local\").\\\n",
    "                appName(\"Home_Work_py\").\\\n",
    "                config(\"spark.driver.bindAddress\", \"localhost\").\\\n",
    "                config(\"spark.ui.port\", \"4040\").\\\n",
    "                getOrCreate()"
   ]
  },
  {
   "cell_type": "markdown",
   "id": "4e0c878c",
   "metadata": {},
   "source": [
    "# Попробовать без схемы данных"
   ]
  },
  {
   "cell_type": "code",
   "execution_count": 3,
   "id": "43e172ae",
   "metadata": {},
   "outputs": [],
   "source": [
    "data = [ ('Петя','','Петров','12-12-2010','M',3000)\n",
    "        ,('Маша','Михайловна','Мишина','10-09-2000','F',5000)\n",
    "        ,('Коля','Николаевич','','15-06-1999','M',4000)\n",
    "        ,('Вася','','Пупкин','01-01-1954','M',7000)\n",
    "        ,('Иоган','Себастьян','Бах','30-05-1754','M',5000)\n",
    "]"
   ]
  },
  {
   "cell_type": "code",
   "execution_count": 4,
   "id": "af6346c4",
   "metadata": {},
   "outputs": [],
   "source": [
    "columns = ['firstame', 'midlename', 'secondname', 'dob', 'gender', 'salary']\n",
    "df = spark.createDataFrame(data = data, schema = columns )"
   ]
  },
  {
   "cell_type": "code",
   "execution_count": 5,
   "id": "4b309231",
   "metadata": {},
   "outputs": [
    {
     "name": "stderr",
     "output_type": "stream",
     "text": [
      "                                                                                \r"
     ]
    },
    {
     "data": {
      "text/plain": [
       "5"
      ]
     },
     "execution_count": 5,
     "metadata": {},
     "output_type": "execute_result"
    }
   ],
   "source": [
    "df.count()"
   ]
  },
  {
   "cell_type": "code",
   "execution_count": 6,
   "id": "1824dff9",
   "metadata": {},
   "outputs": [
    {
     "name": "stdout",
     "output_type": "stream",
     "text": [
      "+--------+----------+----------+----------+------+------+\n",
      "|firstame| midlename|secondname|       dob|gender|salary|\n",
      "+--------+----------+----------+----------+------+------+\n",
      "|    Петя|          |    Петров|12-12-2010|     M|  3000|\n",
      "|    Маша|Михайловна|    Мишина|10-09-2000|     F|  5000|\n",
      "|    Коля|Николаевич|          |15-06-1999|     M|  4000|\n",
      "|    Вася|          |    Пупкин|01-01-1954|     M|  7000|\n",
      "|   Иоган| Себастьян|       Бах|30-05-1754|     M|  5000|\n",
      "+--------+----------+----------+----------+------+------+\n",
      "\n"
     ]
    }
   ],
   "source": [
    "df.show(5)"
   ]
  },
  {
   "cell_type": "code",
   "execution_count": 7,
   "id": "dd8060de",
   "metadata": {},
   "outputs": [
    {
     "name": "stdout",
     "output_type": "stream",
     "text": [
      "root\n",
      " |-- firstame: string (nullable = true)\n",
      " |-- midlename: string (nullable = true)\n",
      " |-- secondname: string (nullable = true)\n",
      " |-- dob: string (nullable = true)\n",
      " |-- gender: string (nullable = true)\n",
      " |-- salary: long (nullable = true)\n",
      "\n"
     ]
    }
   ],
   "source": [
    "df.printSchema()"
   ]
  },
  {
   "cell_type": "markdown",
   "id": "9ad9eb30",
   "metadata": {},
   "source": [
    "Мы попробуем использовать возможности Spark для анализа данных clickstream пользователей новостного Интернет-портала."
   ]
  },
  {
   "cell_type": "markdown",
   "id": "756d2e77",
   "metadata": {},
   "source": [
    "# a. Создайте схему будущего фрейма данных. \n",
    "Схема должна включать следующие атрибуты:\n",
    "\n",
    "·id -  уникальный идентификатор посетителя сайта. Тип – последовательность чисел фиксированной длины. Данное поле не является первичным ключом.\n",
    "\n",
    "· timestamp – дата и время события в формате unix timestamp.\n",
    "\n",
    "· type – тип события, значение из списка (факт посещения(visit), клик по визуальному элементу страницы(click), скролл(scroll), перед на другую страницу(move)).\n",
    "\n",
    "· page_id – id текущей страницы. Тип - последовательность чисел фиксированной длины.\n",
    "\n",
    "· tag – каждая страница с новостью размечается редакцией специальными тегами, которые отражают тематику конкретной новости со \n",
    "страницы. Возможный список тематик: политика, спорт, медицина и т.д.\n",
    "\n",
    "· sign – наличие у пользователя личного кабинета. Значения – True/False."
   ]
  },
  {
   "cell_type": "code",
   "execution_count": 8,
   "id": "9c4a9db6",
   "metadata": {},
   "outputs": [],
   "source": [
    "schema_web = T.StructType(fields=[\n",
    "    T.StructField(\"id\", T.LongType()),\n",
    "    T.StructField(\"timestamp\", T.LongType()),\n",
    "    T.StructField(\"type\", T.StringType()),\n",
    "    T.StructField(\"page_id\", T.LongType()),\n",
    "    T.StructField(\"tag\", T.StringType()),\n",
    "    T.StructField(\"sign\", T.BooleanType())\n",
    "])"
   ]
  },
  {
   "cell_type": "code",
   "execution_count": 9,
   "id": "8c6a74df",
   "metadata": {},
   "outputs": [],
   "source": [
    "schema_lk = T.StructType(fields=[\n",
    "    T.StructField(\"id_cab\", T.LongType()),\n",
    "    T.StructField(\"user_id\", T.LongType()),\n",
    "    T.StructField(\"FIO\", T.StringType()),\n",
    "    T.StructField(\"birthdate\", T.DateType()),\n",
    "    T.StructField(\"cab_regdate\", T.StringType()),\n",
    "])"
   ]
  },
  {
   "cell_type": "markdown",
   "id": "4e87cf45",
   "metadata": {},
   "source": [
    "# b. Создайте датафрейм \n",
    "с описанной выше схемой данных."
   ]
  },
  {
   "cell_type": "code",
   "execution_count": 10,
   "id": "d8227a94",
   "metadata": {},
   "outputs": [],
   "source": [
    "data_web = [ (1, 1667627426, \"visit\", 101, 'Sport', False)\n",
    "            ,(1, 1667627026, \"scroll\", 101, 'Sport', False)\n",
    "            ,(1, 1667627880, \"click\", 101, 'Sport', False)\n",
    "            , (1, 1667627889, \"click\", 101, 'Sport', False)\n",
    "            ,(1, 1667627980, \"visit\", 102, 'Politics', False)\n",
    "            ,(1, 1667627180, \"click\", 102, 'Politics', False)\n",
    "            ,(1, 1667628180, \"visit\", 103, 'Politics', False)\n",
    "            ,(2, 1647628326, \"visit\", 104, 'Politics', True)\n",
    "            ,(2, 1669628526, \"scroll\", 104, 'Politics', True)\n",
    "            ,(2, 1667628680, \"click\", 104, 'Politics', True)\n",
    "            ,(2, 1668628880, \"visit\", 105, 'Business', True)\n",
    "            ,(2, 1667638810, \"click\", 105, 'Business', True)\n",
    "            ,(2, 1667628819, \"click\", 105, 'Business', True)\n",
    "            ,(3, 1667624980, \"visit\", 106, 'Sport', False)\n",
    "            ,(3, 1667609180, \"click\", 106, 'Sport', False)\n",
    "            ,(3, 1667629480, \"visit\", 107, 'Politics', False)\n",
    "            ,(3, 1667029580, \"scroll\", 107, 'Politics', False)]"
   ]
  },
  {
   "cell_type": "code",
   "execution_count": 11,
   "id": "7a807082",
   "metadata": {},
   "outputs": [],
   "source": [
    "data_lk =[\n",
    "    (101,1,\"Иванов Иван Иванович\", datetime.datetime(1990,7,5), datetime.datetime(2016,8,15))\n",
    "    ,(102,2,\"Петрова Петра Петручевна\", datetime.datetime(2001,12,1), datetime.datetime(2020,4,1))\n",
    "]"
   ]
  },
  {
   "cell_type": "code",
   "execution_count": 12,
   "id": "b7bfadc6",
   "metadata": {},
   "outputs": [],
   "source": [
    "df_web = spark.createDataFrame(data=data_web, schema = schema_web)\n",
    "df_lk = spark.createDataFrame(data=data_lk, schema = schema_lk)\n"
   ]
  },
  {
   "cell_type": "code",
   "execution_count": 13,
   "id": "7db67b5a",
   "metadata": {},
   "outputs": [
    {
     "name": "stdout",
     "output_type": "stream",
     "text": [
      "+---+----------+------+-------+--------+-----+\n",
      "| id| timestamp|  type|page_id|     tag| sign|\n",
      "+---+----------+------+-------+--------+-----+\n",
      "|  1|1667627426| visit|    101|   Sport|false|\n",
      "|  1|1667627026|scroll|    101|   Sport|false|\n",
      "|  1|1667627880| click|    101|   Sport|false|\n",
      "|  1|1667627889| click|    101|   Sport|false|\n",
      "|  1|1667627980| visit|    102|Politics|false|\n",
      "|  1|1667627180| click|    102|Politics|false|\n",
      "|  1|1667628180| visit|    103|Politics|false|\n",
      "|  2|1647628326| visit|    104|Politics| true|\n",
      "|  2|1669628526|scroll|    104|Politics| true|\n",
      "|  2|1667628680| click|    104|Politics| true|\n",
      "|  2|1668628880| visit|    105|Business| true|\n",
      "|  2|1667638810| click|    105|Business| true|\n",
      "|  2|1667628819| click|    105|Business| true|\n",
      "|  3|1667624980| visit|    106|   Sport|false|\n",
      "|  3|1667609180| click|    106|   Sport|false|\n",
      "|  3|1667629480| visit|    107|Politics|false|\n",
      "|  3|1667029580|scroll|    107|Politics|false|\n",
      "+---+----------+------+-------+--------+-----+\n",
      "\n"
     ]
    }
   ],
   "source": [
    "df_web.show()\n"
   ]
  },
  {
   "cell_type": "code",
   "execution_count": 14,
   "id": "908f2a15",
   "metadata": {},
   "outputs": [
    {
     "name": "stdout",
     "output_type": "stream",
     "text": [
      "+------+-------+--------------------+----------+--------------------+\n",
      "|id_cab|user_id|                 FIO| birthdate|         cab_regdate|\n",
      "+------+-------+--------------------+----------+--------------------+\n",
      "|   101|      1|Иванов Иван Иванович|1990-07-05|java.util.Gregori...|\n",
      "|   102|      2|Петрова Петра Пет...|2001-12-01|java.util.Gregori...|\n",
      "+------+-------+--------------------+----------+--------------------+\n",
      "\n"
     ]
    }
   ],
   "source": [
    "df_lk.show()"
   ]
  },
  {
   "cell_type": "markdown",
   "id": "884ec40e",
   "metadata": {},
   "source": [
    "# c. Наполните датафрейм данными. \n",
    "Пример:\n",
    "(12345, 1667627426, \"click\", 101, \"Sport”, False)"
   ]
  },
  {
   "cell_type": "code",
   "execution_count": 15,
   "id": "1d21721c",
   "metadata": {},
   "outputs": [],
   "source": [
    "data_lk_new =[\n",
    "    (103,3,\"Марья Ивановна Чугунова\", datetime.datetime(1995,3,15), datetime.datetime(2017,5,17))\n",
    "    ,(104,4,\"Лёлик Боликович Козлодоев\", datetime.datetime(1993,8,19), datetime.datetime(2021,12,30))\n",
    "]"
   ]
  },
  {
   "cell_type": "code",
   "execution_count": 16,
   "id": "2844a3b6",
   "metadata": {},
   "outputs": [],
   "source": [
    "df_lk_new = spark.createDataFrame(data=data_lk_new, schema = schema_lk)\n",
    "df_lk_new = df_lk.union(df_lk_new)"
   ]
  },
  {
   "cell_type": "code",
   "execution_count": 17,
   "id": "4bd130d6",
   "metadata": {},
   "outputs": [
    {
     "name": "stdout",
     "output_type": "stream",
     "text": [
      "+------+-------+--------------------+----------+--------------------+\n",
      "|id_cab|user_id|                 FIO| birthdate|         cab_regdate|\n",
      "+------+-------+--------------------+----------+--------------------+\n",
      "|   101|      1|Иванов Иван Иванович|1990-07-05|java.util.Gregori...|\n",
      "|   102|      2|Петрова Петра Пет...|2001-12-01|java.util.Gregori...|\n",
      "|   103|      3|Марья Ивановна Чу...|1995-03-15|java.util.Gregori...|\n",
      "|   104|      4|Лёлик Боликович К...|1993-08-19|java.util.Gregori...|\n",
      "+------+-------+--------------------+----------+--------------------+\n",
      "\n"
     ]
    }
   ],
   "source": [
    "df_lk_new.show()"
   ]
  },
  {
   "cell_type": "markdown",
   "id": "d4d6186e",
   "metadata": {},
   "source": [
    "# d.       Решите следующие задачи:"
   ]
  },
  {
   "cell_type": "markdown",
   "id": "d0de4a21",
   "metadata": {},
   "source": [
    "## ·   Вывести топ-5 самых активных посетителей сайта"
   ]
  },
  {
   "cell_type": "code",
   "execution_count": 18,
   "id": "f942b62c",
   "metadata": {},
   "outputs": [
    {
     "name": "stderr",
     "output_type": "stream",
     "text": [
      "[Stage 8:==========================================>            (155 + 2) / 200]\r"
     ]
    },
    {
     "name": "stdout",
     "output_type": "stream",
     "text": [
      "+---+-----+\n",
      "| id|count|\n",
      "+---+-----+\n",
      "|  1|    7|\n",
      "|  2|    6|\n",
      "|  3|    4|\n",
      "+---+-----+\n",
      "\n"
     ]
    },
    {
     "name": "stderr",
     "output_type": "stream",
     "text": [
      "                                                                                \r"
     ]
    }
   ],
   "source": [
    "# пять активных из таблицы с кликами\n",
    "df_top5 = df_web.groupby(\"id\").count().sort(\"count\" , ascending=False)\n",
    "df_top5.show(5)"
   ]
  },
  {
   "cell_type": "code",
   "execution_count": 19,
   "id": "136736a0",
   "metadata": {},
   "outputs": [
    {
     "name": "stderr",
     "output_type": "stream",
     "text": [
      "                                                                                \r"
     ]
    },
    {
     "name": "stdout",
     "output_type": "stream",
     "text": [
      "+--------------------+\n",
      "|                 FIO|\n",
      "+--------------------+\n",
      "|Иванов Иван Иванович|\n",
      "|Марья Ивановна Чу...|\n",
      "|Петрова Петра Пет...|\n",
      "+--------------------+\n",
      "\n"
     ]
    }
   ],
   "source": [
    "# имена пяти активных пользователей\n",
    "df_top5_rez = df_top5.join(df_lk_new, on= (df_top5.id==df_lk.user_id)).select(['FIO'])\n",
    "df_top5_rez.show()"
   ]
  },
  {
   "cell_type": "markdown",
   "id": "76ff3ae9",
   "metadata": {},
   "source": [
    "## ·   Посчитать процент посетителей,\n",
    "у которых есть ЛК"
   ]
  },
  {
   "cell_type": "code",
   "execution_count": 20,
   "id": "3a359bf4",
   "metadata": {},
   "outputs": [
    {
     "name": "stderr",
     "output_type": "stream",
     "text": [
      "                                                                                \r"
     ]
    },
    {
     "name": "stdout",
     "output_type": "stream",
     "text": [
      "Всего активных пользователей 3\n"
     ]
    },
    {
     "name": "stderr",
     "output_type": "stream",
     "text": [
      "[Stage 28:=========================================>            (153 + 2) / 200]\r"
     ]
    },
    {
     "name": "stdout",
     "output_type": "stream",
     "text": [
      "Всего у кого есть кабинет 1\n",
      "Ответ: процент посетителей, у которых есть ЛК = 33.3%\n"
     ]
    },
    {
     "name": "stderr",
     "output_type": "stream",
     "text": [
      "                                                                                \r"
     ]
    }
   ],
   "source": [
    "df_tmp = df_web.select(['id','sign']).distinct()\n",
    "num_users = df_tmp.count()\n",
    "print(\"Всего активных пользователей\", num_users)\n",
    "num_users_lk = df_tmp.select(['id','sign']).where(df_tmp.sign == True).count()\n",
    "print(\"Всего у кого есть кабинет\", num_users_lk)\n",
    "print(f\"Ответ: процент посетителей, у которых есть ЛК = {num_users_lk/num_users*100:.1f}%\" )"
   ]
  },
  {
   "cell_type": "markdown",
   "id": "139ba690",
   "metadata": {},
   "source": [
    "## ·   Вывести топ-5 страниц сайта \n",
    "по показателю общего кол-ва кликов на данной странице"
   ]
  },
  {
   "cell_type": "code",
   "execution_count": 21,
   "id": "e4046f88",
   "metadata": {},
   "outputs": [
    {
     "name": "stderr",
     "output_type": "stream",
     "text": [
      "[Stage 31:=================================================>    (183 + 1) / 200]\r"
     ]
    },
    {
     "name": "stdout",
     "output_type": "stream",
     "text": [
      "+-------+-----+\n",
      "|page_id|count|\n",
      "+-------+-----+\n",
      "|    105|    2|\n",
      "|    101|    2|\n",
      "|    104|    1|\n",
      "|    106|    1|\n",
      "|    102|    1|\n",
      "+-------+-----+\n",
      "\n"
     ]
    },
    {
     "name": "stderr",
     "output_type": "stream",
     "text": [
      "                                                                                \r"
     ]
    }
   ],
   "source": [
    "df_web.select([\"page_id\", \"type\"]).where(df_web.type == 'click').groupby('page_id').count().sort(\"count\", ascending=False).show(5)"
   ]
  },
  {
   "cell_type": "markdown",
   "id": "4570ebeb",
   "metadata": {},
   "source": [
    "## ·   Добавьте столбец к фрейму данных\n",
    "со значением временного диапазона в рамках суток с размером окна – 4 часа(0-4, 4-8, 8-12 и т.д.)"
   ]
  },
  {
   "cell_type": "code",
   "execution_count": 22,
   "id": "5e08f006",
   "metadata": {},
   "outputs": [],
   "source": [
    "# intrv = 4\n",
    "\n",
    "# for i in range(0,24):\n",
    "#     #h = 4\n",
    "#     x = math.trunc( i / intrv )\n",
    "#     xx = intrv*x\n",
    "#     print(f\"{i} => {xx}-{xx+3}\")\n"
   ]
  },
  {
   "cell_type": "code",
   "execution_count": 23,
   "id": "a7c4dfa8",
   "metadata": {},
   "outputs": [
    {
     "name": "stdout",
     "output_type": "stream",
     "text": [
      "+---+----------+------+-------+--------+-----+----------+\n",
      "| id| timestamp|  type|page_id|     tag| sign|event_time|\n",
      "+---+----------+------+-------+--------+-----+----------+\n",
      "|  1|1667627426| visit|    101|   Sport|false|       4-8|\n",
      "|  1|1667627026|scroll|    101|   Sport|false|       4-8|\n",
      "|  1|1667627880| click|    101|   Sport|false|       4-8|\n",
      "|  1|1667627889| click|    101|   Sport|false|       4-8|\n",
      "|  1|1667627980| visit|    102|Politics|false|       4-8|\n",
      "|  1|1667627180| click|    102|Politics|false|       4-8|\n",
      "|  1|1667628180| visit|    103|Politics|false|       4-8|\n",
      "|  2|1647628326| visit|    104|Politics| true|     16-20|\n",
      "|  2|1669628526|scroll|    104|Politics| true|      8-12|\n",
      "|  2|1667628680| click|    104|Politics| true|       4-8|\n",
      "|  2|1668628880| visit|    105|Business| true|     20-24|\n",
      "|  2|1667638810| click|    105|Business| true|      8-12|\n",
      "|  2|1667628819| click|    105|Business| true|       4-8|\n",
      "|  3|1667624980| visit|    106|   Sport|false|       4-8|\n",
      "|  3|1667609180| click|    106|   Sport|false|       0-4|\n",
      "|  3|1667629480| visit|    107|Politics|false|       4-8|\n",
      "|  3|1667029580|scroll|    107|Politics|false|       4-8|\n",
      "+---+----------+------+-------+--------+-----+----------+\n",
      "\n"
     ]
    }
   ],
   "source": [
    "# df_web_new = df_web.withColumn(\"event_time\", F.from_unixtime(df_web.timestamp)\n",
    "# ).withColumn(\"hour\",F.hour( F.from_unixtime(df_web.timestamp) ) \n",
    "# ).withColumn(\"interval_num\", \n",
    "#     F.floor( 0.25*F.hour( \n",
    "#                      F.from_unixtime(df_web.timestamp)\n",
    "#                   ) \n",
    "#            ) \n",
    "# )\n",
    "\n",
    "df_web_new = df_web.withColumn(\"interval_num\", \n",
    "    F.floor( 0.25*F.hour( \n",
    "                     F.from_unixtime(df_web.timestamp)\n",
    "                  ) \n",
    "           ) \n",
    ")\n",
    "\n",
    "# df_web_new.show() #.printSchema() #\n",
    "\n",
    "df_web_new0 = df_web_new.withColumn('int0', 4*df_web_new.interval_num) #.printSchema() #show()\n",
    "df_web_new1 = df_web_new0.withColumn('int1', df_web_new0.int0+4) #.printSchema() #show()\n",
    "# df_web_new1.show()\n",
    "df_web_new_ok = df_web_new1.withColumn('event_time', F.concat(df_web_new1.int0, F.lit(\"-\"), df_web_new1.int1)) #.printSchema() #show()\n",
    "df_web_new_ok = df_web_new_ok.select([\"id\", \"timestamp\", \"type\", \"page_id\", \"tag\", \"sign\", \"event_time\"])\n",
    "df_web_new_ok.show()"
   ]
  },
  {
   "cell_type": "markdown",
   "id": "04ff180b",
   "metadata": {},
   "source": [
    "## ·   Выведите временной промежуток \n",
    "на основе предыдущего задания, в течение которого было больше всего активностей на сайте."
   ]
  },
  {
   "cell_type": "code",
   "execution_count": 26,
   "id": "16344729",
   "metadata": {},
   "outputs": [
    {
     "name": "stderr",
     "output_type": "stream",
     "text": [
      "[Stage 38:=============================>                        (110 + 2) / 200]\r"
     ]
    },
    {
     "name": "stdout",
     "output_type": "stream",
     "text": [
      "+----------+-----+\n",
      "|event_time|count|\n",
      "+----------+-----+\n",
      "|       4-8|   12|\n",
      "+----------+-----+\n",
      "only showing top 1 row\n",
      "\n"
     ]
    },
    {
     "name": "stderr",
     "output_type": "stream",
     "text": [
      "                                                                                \r"
     ]
    }
   ],
   "source": [
    "df_web_new_ok.groupBy(\"event_time\").count().sort(\"count\", ascending=False).show(1)"
   ]
  },
  {
   "cell_type": "markdown",
   "id": "447e486f",
   "metadata": {},
   "source": [
    "## ·   Создайте второй фрейм данных, \n",
    "который будет содержать информацию о ЛК посетителя сайта со следующим списком атрибутов\n",
    "1.       Id – уникальный идентификатор личного кабинета\n",
    "2.       User_id – уникальный идентификатор посетителя\n",
    "3.       ФИО посетителя\n",
    "4.    Дату рождения посетителя \n",
    "5.       Дата создания ЛК"
   ]
  },
  {
   "cell_type": "code",
   "execution_count": 27,
   "id": "728209d8",
   "metadata": {},
   "outputs": [],
   "source": [
    "#сделано"
   ]
  },
  {
   "cell_type": "markdown",
   "id": "fc76250c",
   "metadata": {},
   "source": [
    "## ·   Вывести фамилии посетителей, которые читали хотя бы одну новость про спорт."
   ]
  },
  {
   "cell_type": "code",
   "execution_count": 28,
   "id": "cb59accf",
   "metadata": {},
   "outputs": [
    {
     "name": "stdout",
     "output_type": "stream",
     "text": [
      "+---+----------+------+-------+--------+-----+\n",
      "| id| timestamp|  type|page_id|     tag| sign|\n",
      "+---+----------+------+-------+--------+-----+\n",
      "|  1|1667627426| visit|    101|   Sport|false|\n",
      "|  1|1667627026|scroll|    101|   Sport|false|\n",
      "|  1|1667627880| click|    101|   Sport|false|\n",
      "|  1|1667627889| click|    101|   Sport|false|\n",
      "|  1|1667627980| visit|    102|Politics|false|\n",
      "|  1|1667627180| click|    102|Politics|false|\n",
      "|  1|1667628180| visit|    103|Politics|false|\n",
      "|  2|1647628326| visit|    104|Politics| true|\n",
      "|  2|1669628526|scroll|    104|Politics| true|\n",
      "|  2|1667628680| click|    104|Politics| true|\n",
      "|  2|1668628880| visit|    105|Business| true|\n",
      "|  2|1667638810| click|    105|Business| true|\n",
      "|  2|1667628819| click|    105|Business| true|\n",
      "|  3|1667624980| visit|    106|   Sport|false|\n",
      "|  3|1667609180| click|    106|   Sport|false|\n",
      "|  3|1667629480| visit|    107|Politics|false|\n",
      "|  3|1667029580|scroll|    107|Politics|false|\n",
      "+---+----------+------+-------+--------+-----+\n",
      "\n"
     ]
    }
   ],
   "source": [
    "df_web.show()"
   ]
  },
  {
   "cell_type": "code",
   "execution_count": 32,
   "id": "13276315",
   "metadata": {},
   "outputs": [
    {
     "name": "stdout",
     "output_type": "stream",
     "text": [
      "+---+-----+\n",
      "| id|  tag|\n",
      "+---+-----+\n",
      "|  1|Sport|\n",
      "|  3|Sport|\n",
      "+---+-----+\n",
      "\n"
     ]
    }
   ],
   "source": [
    "# пять активных из таблицы с кликами\n",
    "df_sport = df_web.select(['id', 'tag']).where(df_web.tag == \"Sport\").distinct() #groupby(\"id\").count().sort(\"count\" , ascending=False)\n",
    "df_sport.show(5)"
   ]
  },
  {
   "cell_type": "code",
   "execution_count": 35,
   "id": "b29b3e1a",
   "metadata": {},
   "outputs": [
    {
     "name": "stderr",
     "output_type": "stream",
     "text": [
      "                                                                                \r"
     ]
    },
    {
     "name": "stdout",
     "output_type": "stream",
     "text": [
      "+--------------------+\n",
      "|                 FIO|\n",
      "+--------------------+\n",
      "|Иванов Иван Иванович|\n",
      "|Марья Ивановна Чу...|\n",
      "+--------------------+\n",
      "\n"
     ]
    }
   ],
   "source": [
    "# имена пяти активных пользователей\n",
    "df_sport_rez = df_sport.join(df_lk_new, on= (df_sport.id==df_lk.user_id), how='left').select(['FIO'])\n",
    "df_sport_rez.show()"
   ]
  },
  {
   "cell_type": "markdown",
   "id": "e43f8979",
   "metadata": {},
   "source": [
    "## ·   *Выведите 10% ЛК,\n",
    "у которых максимальная разница между датой создания ЛК и датой последнего посещения."
   ]
  },
  {
   "cell_type": "markdown",
   "id": "9afd67d2",
   "metadata": {},
   "source": [
    "## ·   *Вывести топ-5 страниц,\n",
    "которые чаще всего посещают мужчины и топ-5 страниц, которые посещают чаще женщины."
   ]
  },
  {
   "cell_type": "code",
   "execution_count": null,
   "id": "23dd1230",
   "metadata": {},
   "outputs": [],
   "source": []
  }
 ],
 "metadata": {
  "kernelspec": {
   "display_name": "Python 3 (ipykernel)",
   "language": "python",
   "name": "python3"
  },
  "language_info": {
   "codemirror_mode": {
    "name": "ipython",
    "version": 3
   },
   "file_extension": ".py",
   "mimetype": "text/x-python",
   "name": "python",
   "nbconvert_exporter": "python",
   "pygments_lexer": "ipython3",
   "version": "3.9.2"
  },
  "toc-autonumbering": true,
  "toc-showmarkdowntxt": false
 },
 "nbformat": 4,
 "nbformat_minor": 5
}
